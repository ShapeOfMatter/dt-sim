{
 "cells": [
  {
   "cell_type": "code",
   "execution_count": 1,
   "id": "e8b0f5e6",
   "metadata": {},
   "outputs": [],
   "source": [
    "import csv\n",
    "import matplotlib.pyplot as plt\n",
    "import statistics"
   ]
  },
  {
   "cell_type": "code",
   "execution_count": 2,
   "id": "eba896b9",
   "metadata": {},
   "outputs": [],
   "source": [
    "CSV_FILE1 = \"../gitignore/asymptote/medium2_2023_Aug_19_02_50_31_.csv\"\n",
    "CSV_FILE2 = \"../gitignore/asymptote/medium2_2023_Sep_12_00_48_31_.csv\""
   ]
  },
  {
   "cell_type": "code",
   "execution_count": 3,
   "id": "6533723f",
   "metadata": {},
   "outputs": [],
   "source": [
    "with open(CSV_FILE1) as f:\n",
    "    data1 = [{key: value if key == 'filename' else (\n",
    "                  bool(int(value)) if key.endswith('_secure') else (\n",
    "                      float(value if value != 'NA' else 0) if key.endswith('_p') or key.endswith('_time') else -1000000\n",
    "                  )\n",
    "              )\n",
    "              for (key, value) in row.items()\n",
    "             }\n",
    "             for row in csv.DictReader(f)]\n",
    "    \n",
    "with open(CSV_FILE2) as f:\n",
    "    data2 = [{key: value if key == 'filename' else (\n",
    "                  bool(int(value)) if key.endswith('_secure') else (\n",
    "                      float(value if value != 'NA' else 0) if key.endswith('_p') or key.endswith('_time') else -1000000\n",
    "                  )\n",
    "              )\n",
    "              for (key, value) in row.items()\n",
    "             }\n",
    "             for row in csv.DictReader(f)]"
   ]
  },
  {
   "cell_type": "code",
   "execution_count": 4,
   "id": "9bc73745",
   "metadata": {},
   "outputs": [
    {
     "data": {
      "text/plain": [
       "set()"
      ]
     },
     "execution_count": 4,
     "metadata": {},
     "output_type": "execute_result"
    }
   ],
   "source": [
    "set(data1[0].keys()) - data2[0].keys()"
   ]
  },
  {
   "cell_type": "code",
   "execution_count": 5,
   "id": "538e4622",
   "metadata": {},
   "outputs": [
    {
     "data": {
      "text/plain": [
       "['filename',\n",
       " 'test_100_52_12_time',\n",
       " 'test_100_52_12_p',\n",
       " 'test_100_52_12_secure',\n",
       " 'test_100_103_25_time',\n",
       " 'test_100_103_25_p',\n",
       " 'test_100_103_25_secure',\n",
       " 'test_100_154_38_time',\n",
       " 'test_100_154_38_p',\n",
       " 'test_100_154_38_secure',\n",
       " 'test_100_205_51_time',\n",
       " 'test_100_205_51_p',\n",
       " 'test_100_205_51_secure',\n",
       " 'test_100_256_64_time',\n",
       " 'test_100_256_64_p',\n",
       " 'test_100_256_64_secure',\n",
       " 'test_100_359_89_time',\n",
       " 'test_100_359_89_p',\n",
       " 'test_100_359_89_secure',\n",
       " 'test_100_461_115_time',\n",
       " 'test_100_461_115_p',\n",
       " 'test_100_461_115_secure',\n",
       " 'test_100_615_153_time',\n",
       " 'test_100_615_153_p',\n",
       " 'test_100_615_153_secure',\n",
       " 'test_100_768_192_time',\n",
       " 'test_100_768_192_p',\n",
       " 'test_100_768_192_secure',\n",
       " 'test_100_973_243_time',\n",
       " 'test_100_973_243_p',\n",
       " 'test_100_973_243_secure',\n",
       " 'test_100_1229_307_time',\n",
       " 'test_100_1229_307_p',\n",
       " 'test_100_1229_307_secure',\n",
       " 'test_100_1536_384_time',\n",
       " 'test_100_1536_384_p',\n",
       " 'test_100_1536_384_secure',\n",
       " 'test_100_1946_486_time',\n",
       " 'test_100_1946_486_p',\n",
       " 'test_100_1946_486_secure',\n",
       " 'test_100_2458_614_time',\n",
       " 'test_100_2458_614_p',\n",
       " 'test_100_2458_614_secure',\n",
       " 'test_100_3072_768_time',\n",
       " 'test_100_3072_768_p',\n",
       " 'test_100_3072_768_secure',\n",
       " 'test_100_3840_960_time',\n",
       " 'test_100_3840_960_p',\n",
       " 'test_100_3840_960_secure',\n",
       " 'test_100_4813_1203_time',\n",
       " 'test_100_4813_1203_p',\n",
       " 'test_100_4813_1203_secure',\n",
       " 'test_100_6042_1510_time',\n",
       " 'test_100_6042_1510_p',\n",
       " 'test_100_6042_1510_secure',\n",
       " 'test_100_7578_1894_time',\n",
       " 'test_100_7578_1894_p',\n",
       " 'test_100_7578_1894_secure']"
      ]
     },
     "execution_count": 5,
     "metadata": {},
     "output_type": "execute_result"
    }
   ],
   "source": [
    "list(data1[0].keys())"
   ]
  },
  {
   "cell_type": "code",
   "execution_count": 6,
   "id": "79827052",
   "metadata": {},
   "outputs": [
    {
     "data": {
      "text/plain": [
       "{'filename': 'gitignore/asymptote//medium2_2023_Aug_19_02_50_31_1.cho',\n",
       " 'test_100_52_12_time': 2.320628542,\n",
       " 'test_100_52_12_p': 0.005526128183543061,\n",
       " 'test_100_52_12_secure': False,\n",
       " 'test_100_103_25_time': 3.509516394,\n",
       " 'test_100_103_25_p': 3.373082570552221e-11,\n",
       " 'test_100_103_25_secure': False,\n",
       " 'test_100_154_38_time': 0.0,\n",
       " 'test_100_154_38_p': 0.0,\n",
       " 'test_100_154_38_secure': False,\n",
       " 'test_100_205_51_time': 0.0,\n",
       " 'test_100_205_51_p': 0.0,\n",
       " 'test_100_205_51_secure': False,\n",
       " 'test_100_256_64_time': 0.0,\n",
       " 'test_100_256_64_p': 0.0,\n",
       " 'test_100_256_64_secure': False,\n",
       " 'test_100_359_89_time': 0.0,\n",
       " 'test_100_359_89_p': 0.0,\n",
       " 'test_100_359_89_secure': False,\n",
       " 'test_100_461_115_time': 0.0,\n",
       " 'test_100_461_115_p': 0.0,\n",
       " 'test_100_461_115_secure': False,\n",
       " 'test_100_615_153_time': 0.0,\n",
       " 'test_100_615_153_p': 0.0,\n",
       " 'test_100_615_153_secure': False,\n",
       " 'test_100_768_192_time': 0.0,\n",
       " 'test_100_768_192_p': 0.0,\n",
       " 'test_100_768_192_secure': False,\n",
       " 'test_100_973_243_time': 0.0,\n",
       " 'test_100_973_243_p': 0.0,\n",
       " 'test_100_973_243_secure': False,\n",
       " 'test_100_1229_307_time': 0.0,\n",
       " 'test_100_1229_307_p': 0.0,\n",
       " 'test_100_1229_307_secure': False,\n",
       " 'test_100_1536_384_time': 0.0,\n",
       " 'test_100_1536_384_p': 0.0,\n",
       " 'test_100_1536_384_secure': False,\n",
       " 'test_100_1946_486_time': 0.0,\n",
       " 'test_100_1946_486_p': 0.0,\n",
       " 'test_100_1946_486_secure': False,\n",
       " 'test_100_2458_614_time': 0.0,\n",
       " 'test_100_2458_614_p': 0.0,\n",
       " 'test_100_2458_614_secure': False,\n",
       " 'test_100_3072_768_time': 0.0,\n",
       " 'test_100_3072_768_p': 0.0,\n",
       " 'test_100_3072_768_secure': False,\n",
       " 'test_100_3840_960_time': 0.0,\n",
       " 'test_100_3840_960_p': 0.0,\n",
       " 'test_100_3840_960_secure': False,\n",
       " 'test_100_4813_1203_time': 0.0,\n",
       " 'test_100_4813_1203_p': 0.0,\n",
       " 'test_100_4813_1203_secure': False,\n",
       " 'test_100_6042_1510_time': 0.0,\n",
       " 'test_100_6042_1510_p': 0.0,\n",
       " 'test_100_6042_1510_secure': False,\n",
       " 'test_100_7578_1894_time': 0.0,\n",
       " 'test_100_7578_1894_p': 0.0,\n",
       " 'test_100_7578_1894_secure': False}"
      ]
     },
     "execution_count": 6,
     "metadata": {},
     "output_type": "execute_result"
    }
   ],
   "source": [
    "data1[0]"
   ]
  },
  {
   "cell_type": "code",
   "execution_count": 7,
   "id": "660317a0",
   "metadata": {},
   "outputs": [
    {
     "data": {
      "text/plain": [
       "(35, 29)"
      ]
     },
     "execution_count": 7,
     "metadata": {},
     "output_type": "execute_result"
    }
   ],
   "source": [
    "relevant1 = [row for row in data1 if row['test_100_256_64_secure']]\n",
    "relevant2 = [row for row in data2 if row['test_100_256_64_secure']]\n",
    "(len(relevant1), len(relevant2))"
   ]
  },
  {
   "cell_type": "code",
   "execution_count": 8,
   "id": "c8478a98",
   "metadata": {},
   "outputs": [
    {
     "data": {
      "text/plain": [
       "(0.37941922229059155, 0.4541447455620431)"
      ]
     },
     "execution_count": 8,
     "metadata": {},
     "output_type": "execute_result"
    }
   ],
   "source": [
    "pvs1 = [row['test_100_52_12_p'] for row in relevant1]\n",
    "pvs2 = [row['test_100_52_12_p'] for row in relevant2]\n",
    "(statistics.mean(pvs1), statistics.mean(pvs2))"
   ]
  },
  {
   "cell_type": "code",
   "execution_count": 12,
   "id": "a4089015",
   "metadata": {},
   "outputs": [
    {
     "data": {
      "image/png": "[encoded data removed]",
      "text/plain": [
       "<Figure size 640x480 with 1 Axes>"
      ]
     },
     "metadata": {},
     "output_type": "display_data"
    }
   ],
   "source": [
    "_, ax = plt.subplots(1,1)\n",
    "ax.hist(pvs1, bins=10, label=\"August\")\n",
    "ax.hist(pvs2, bins=10, label=\"September\", color=(0.9, 0.5, 0.0, .7))\n",
    "ax.legend()\n",
    "plt.show()"
   ]
  },
  {
   "cell_type": "code",
   "execution_count": 14,
   "id": "506b5b9c",
   "metadata": {},
   "outputs": [
    {
     "data": {
      "text/plain": [
       "[0.5176686251356807, 0.49865215291361525]"
      ]
     },
     "execution_count": 14,
     "metadata": {},
     "output_type": "execute_result"
    }
   ],
   "source": [
    "medium7 = []\n",
    "\n",
    "with open(\"../gitignore/medium_HF_7_ispadded.pvals\") as f:\n",
    "    medium7.append(\n",
    "        [float(row) for row in f]\n",
    "    )\n",
    "\n",
    "with open(\"../gitignore/medium_HF_7_unpadded.pvals\") as f:\n",
    "    medium7.append(\n",
    "        [float(row) for row in f]\n",
    "    )\n",
    "\n",
    "[statistics.mean(d)  for d in medium7]"
   ]
  },
  {
   "cell_type": "code",
   "execution_count": 16,
   "id": "df729ecb",
   "metadata": {},
   "outputs": [
    {
     "data": {
      "image/png": "[encoded data removed]",
      "text/plain": [
       "<Figure size 640x480 with 1 Axes>"
      ]
     },
     "metadata": {},
     "output_type": "display_data"
    }
   ],
   "source": [
    "_, ax = plt.subplots(1,1)\n",
    "ax.hist(medium7[0], bins=10, label=\"August\")\n",
    "ax.hist(medium7[1], bins=10, label=\"September\", color=(0.9, 0.5, 0.0, .7))\n",
    "ax.legend()\n",
    "plt.show()"
   ]
  },
  {
   "cell_type": "code",
   "execution_count": null,
   "id": "13528a05",
   "metadata": {},
   "outputs": [],
   "source": []
  }
 ],
 "metadata": {
  "kernelspec": {
   "display_name": "Python 3 (ipykernel)",
   "language": "python",
   "name": "python3"
  },
  "language_info": {
   "codemirror_mode": {
    "name": "ipython",
    "version": 3
   },
   "file_extension": ".py",
   "mimetype": "text/x-python",
   "name": "python",
   "nbconvert_exporter": "python",
   "pygments_lexer": "ipython3",
   "version": "3.8.10"
  }
 },
 "nbformat": 4,
 "nbformat_minor": 5
}
